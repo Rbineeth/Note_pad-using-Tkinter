{
 "cells": [
  {
   "cell_type": "markdown",
   "id": "0d20c9f2-7345-4608-b397-d38fa322f469",
   "metadata": {},
   "source": [
    "Project: Notepad using Tkinter"
   ]
  },
  {
   "cell_type": "code",
   "execution_count": 47,
   "id": "c66325a6-7576-4ea8-aa1b-d9b76524aa5e",
   "metadata": {},
   "outputs": [],
   "source": [
    "from tkinter import *"
   ]
  },
  {
   "cell_type": "code",
   "execution_count": 49,
   "id": "14f2ee00-bda3-43ca-a66c-44cbb4ef72b1",
   "metadata": {},
   "outputs": [],
   "source": [
    "import tkinter as tk\n",
    "from tkinter import filedialog, messagebox"
   ]
  },
  {
   "cell_type": "code",
   "execution_count": 51,
   "id": "c7ec8d0f-6cb4-4fd4-a82d-4407768cda61",
   "metadata": {},
   "outputs": [],
   "source": [
    "root = tk.Tk()\n",
    "root.geometry('600x600')\n",
    "root.title('R_Bineeth Notepad')\n",
    "root.config(bg='black')\n",
    "\n",
    "def save_file():\n",
    "    file_path = filedialog.asksaveasfilename(defaultextension=\".txt\", filetypes=[(\"Text Files\", \"*.txt\")])\n",
    "    if file_path:\n",
    "        try:\n",
    "            with open(file_path, \"w\") as file:\n",
    "                file.write(entry.get(1.0, tk.END))\n",
    "                messagebox.showinfo(\"Success\", \"File saved successfully!\")\n",
    "        except Exception as e:\n",
    "            messagebox.showerror(\"Error\", f\"Could not save file: {e}\")\n",
    "\n",
    "\n",
    "def open_file():\n",
    "    file_path = filedialog.askopenfilename(filetypes=[(\"Text Files\", \"*.txt\")])\n",
    "    if file_path:\n",
    "        try:\n",
    "            with open(file_path, \"r\") as file:\n",
    "                entry.delete(1.0, tk.END)\n",
    "                entry.insert(tk.END, file.read())\n",
    "        except Exception as e:\n",
    "            messagebox.showerror(\"Error\", f\"Could not open file: {e}\")\n",
    "\n",
    "\n",
    "button_frame = tk.Frame(root, bg='black')\n",
    "button_frame.pack(fill='x', pady=10)\n",
    "\n",
    "save_button = tk.Button(button_frame, text='Save File', width=15, bg='lightgreen', fg='white', font=('Arial', 12, 'bold'), command=save_file)\n",
    "save_button.pack(side='left', padx=10)\n",
    "\n",
    "open_button = tk.Button(button_frame, text='Open File', width=15, bg='lightblue', fg='white', font=('Arial', 12, 'bold'), command=open_file)\n",
    "open_button.pack(side='left', padx=10)\n",
    "\n",
    "\n",
    "entry = tk.Text(root, height=33, width=72, wrap=tk.WORD, font=('Arial', 12))\n",
    "entry.pack(padx=10, pady=10)\n",
    "\n",
    "root.mainloop()\n"
   ]
  },
  {
   "cell_type": "code",
   "execution_count": null,
   "id": "953eb1f4-9af5-43b1-be3f-92ac57037dc5",
   "metadata": {},
   "outputs": [],
   "source": []
  },
  {
   "cell_type": "code",
   "execution_count": null,
   "id": "60e4b477-261a-4114-a3bf-f7f8d86ed818",
   "metadata": {},
   "outputs": [],
   "source": []
  },
  {
   "cell_type": "code",
   "execution_count": null,
   "id": "bd95c52c-48cc-47cf-b712-b3829767772a",
   "metadata": {},
   "outputs": [],
   "source": []
  }
 ],
 "metadata": {
  "kernelspec": {
   "display_name": "Python 3 (ipykernel)",
   "language": "python",
   "name": "python3"
  },
  "language_info": {
   "codemirror_mode": {
    "name": "ipython",
    "version": 3
   },
   "file_extension": ".py",
   "mimetype": "text/x-python",
   "name": "python",
   "nbconvert_exporter": "python",
   "pygments_lexer": "ipython3",
   "version": "3.12.4"
  }
 },
 "nbformat": 4,
 "nbformat_minor": 5
}
